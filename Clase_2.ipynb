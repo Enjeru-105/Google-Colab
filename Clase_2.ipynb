{
  "nbformat": 4,
  "nbformat_minor": 0,
  "metadata": {
    "colab": {
      "provenance": [],
      "authorship_tag": "ABX9TyO2HJcXUxT23Wa/8VwOWUIG",
      "include_colab_link": true
    },
    "kernelspec": {
      "name": "python3",
      "display_name": "Python 3"
    },
    "language_info": {
      "name": "python"
    }
  },
  "cells": [
    {
      "cell_type": "markdown",
      "metadata": {
        "id": "view-in-github",
        "colab_type": "text"
      },
      "source": [
        "<a href=\"https://colab.research.google.com/github/Enjeru-105/Google-Colab/blob/main/Clase_2.ipynb\" target=\"_parent\"><img src=\"https://colab.research.google.com/assets/colab-badge.svg\" alt=\"Open In Colab\"/></a>"
      ]
    },
    {
      "cell_type": "markdown",
      "source": [
        "Métodos son funciones de los objetos\n",
        "\n",
        "Atributos son las características de los objetos\n",
        "\n",
        "lista.métodos(fx)\n",
        "     .atributos"
      ],
      "metadata": {
        "id": "dOjtB07pi_wA"
      }
    },
    {
      "cell_type": "code",
      "source": [
        "li=[]\n",
        "print(li)\n",
        "\n",
        "for _ in range(5):\n",
        "  q=input(\"Escribe algo: \")\n",
        "  li.append(q)\n",
        "\n",
        "print(li)"
      ],
      "metadata": {
        "colab": {
          "base_uri": "https://localhost:8080/"
        },
        "id": "TyQo2LBsj29m",
        "outputId": "3b9e6fb7-bcba-48a7-995e-fcb733adc88e"
      },
      "execution_count": null,
      "outputs": [
        {
          "output_type": "stream",
          "name": "stdout",
          "text": [
            "[]\n",
            "Escribe algo: 12\n",
            "Escribe algo: 13\n",
            "Escribe algo: 14\n",
            "Escribe algo: 15\n",
            "Escribe algo: 16\n",
            "['12', '13', '14', '15', '16']\n"
          ]
        }
      ]
    },
    {
      "cell_type": "code",
      "source": [
        "#Codigo de gemini 1\n",
        "li = []\n",
        "\n",
        "for _ in range(5):\n",
        "  q = input(\"Escribe algo: \")\n",
        "  try:\n",
        "    # Intenta convertir a float\n",
        "    num = float(q)\n",
        "    li.append(num)  # Si es exitoso, guarda como número\n",
        "  except ValueError:\n",
        "    # Si la conversión falla, es porque no es un número\n",
        "    li.append(q)  # Guarda como string\n",
        "\n",
        "print(li)"
      ],
      "metadata": {
        "id": "q4gpJlZbk41Q"
      },
      "execution_count": null,
      "outputs": []
    },
    {
      "cell_type": "code",
      "source": [
        "#Codigo de gemini 2\n",
        "li = []\n",
        "\n",
        "for _ in range(5):\n",
        "  q = input(\"Escribe algo: \")\n",
        "  if q.isdigit(): # Verifica si son solo dígitos\n",
        "    li.append(int(q))  # Guarda como entero\n",
        "  elif q.replace('.', '', 1).isdigit() and q.count('.') <= 1:\n",
        "    # Verifica si es un float con un solo punto\n",
        "    li.append(float(q))\n",
        "  else:\n",
        "    li.append(q)  # Guarda como string\n",
        "\n",
        "print(li)"
      ],
      "metadata": {
        "id": "Qe557wL_k8Ag"
      },
      "execution_count": null,
      "outputs": []
    },
    {
      "cell_type": "markdown",
      "source": [
        "si igualo dos variables, se copia su dirección y cuaquier modificación se refleja en ambas\n",
        "\n",
        "lo=li\n",
        "\n",
        "si quiero copiar los argumentos debo hacer esto:\n",
        "\n",
        "lo=li.copy"
      ],
      "metadata": {
        "id": "UkOd-ALVlKpf"
      }
    },
    {
      "cell_type": "markdown",
      "source": [
        "##Métodos de python\n",
        "\n",
        "https://www.w3schools.com/python/python_strings_methods.asp"
      ],
      "metadata": {
        "id": "wYZ1921rmQSw"
      }
    },
    {
      "cell_type": "code",
      "source": [
        "li=[1,3.1416,2.71,0] #Lista\n",
        "li.sort()\n",
        "print(li)"
      ],
      "metadata": {
        "colab": {
          "base_uri": "https://localhost:8080/"
        },
        "id": "g9MmWsuClZHg",
        "outputId": "f8426e60-7361-460b-bbd7-a4206bf93b87"
      },
      "execution_count": null,
      "outputs": [
        {
          "output_type": "stream",
          "name": "stdout",
          "text": [
            "[0, 1, 2.71, 3.1416]\n"
          ]
        }
      ]
    },
    {
      "cell_type": "code",
      "source": [
        "li=[1,3.1416,2.71,0] #Lista\n",
        "li.sort(reverse=True)\n",
        "print(li)"
      ],
      "metadata": {
        "colab": {
          "base_uri": "https://localhost:8080/"
        },
        "id": "duhuAy_mnUNf",
        "outputId": "8b9f0550-3be1-47f5-c9f2-3192866b4f4c"
      },
      "execution_count": null,
      "outputs": [
        {
          "output_type": "stream",
          "name": "stdout",
          "text": [
            "[3.1416, 2.71, 1, 0]\n"
          ]
        }
      ]
    },
    {
      "cell_type": "markdown",
      "source": [
        "##Definir funciones"
      ],
      "metadata": {
        "id": "_onlC3ajnz_w"
      }
    },
    {
      "cell_type": "code",
      "source": [
        "#Sintaxis\n",
        "\n",
        "#Modulos\n",
        "\n",
        "#Funciones prototipadas\n",
        "\n",
        "#Main"
      ],
      "metadata": {
        "id": "deqa4sL3oTcY"
      },
      "execution_count": null,
      "outputs": []
    },
    {
      "cell_type": "code",
      "source": [
        "#Prototipo\n",
        "def funcion():\n",
        "  for i in range(4):\n",
        "    print(\"Hola a todos en el alfa...😎👌\")\n",
        "\n",
        "#---------------Main--------------#\n",
        "funcion()"
      ],
      "metadata": {
        "colab": {
          "base_uri": "https://localhost:8080/"
        },
        "id": "MKcJPybRn3Qn",
        "outputId": "60f414db-2a43-4cef-fb30-914d4bf66d84"
      },
      "execution_count": null,
      "outputs": [
        {
          "output_type": "stream",
          "name": "stdout",
          "text": [
            "Hola a todos en el alfa...😎👌\n",
            "Hola a todos en el alfa...😎👌\n",
            "Hola a todos en el alfa...😎👌\n",
            "Hola a todos en el alfa...😎👌\n"
          ]
        }
      ]
    },
    {
      "cell_type": "code",
      "source": [
        "#Prototipo\n",
        "def funcion(n):\n",
        "  for i in range(n):\n",
        "    print(\"Hola a todos en el alfa...😎👌\")\n",
        "\n",
        "#---------------Main--------------#\n",
        "n=int(input(\"Escribe un número entero positivo: \"))\n",
        "print(\"\\n\")\n",
        "funcion(n)"
      ],
      "metadata": {
        "colab": {
          "base_uri": "https://localhost:8080/"
        },
        "id": "vFgnzVhboa_f",
        "outputId": "2b8fd126-a43c-4281-945e-bb3ef2b5ba8b"
      },
      "execution_count": null,
      "outputs": [
        {
          "output_type": "stream",
          "name": "stdout",
          "text": [
            "Escribe un número entero positivo: 5\n",
            "\n",
            "\n",
            "Hola a todos en el alfa...😎👌\n",
            "Hola a todos en el alfa...😎👌\n",
            "Hola a todos en el alfa...😎👌\n",
            "Hola a todos en el alfa...😎👌\n",
            "Hola a todos en el alfa...😎👌\n"
          ]
        }
      ]
    },
    {
      "cell_type": "code",
      "source": [
        "def len2(li):\n",
        "  a=0\n",
        "  for i in li:\n",
        "    a+=1\n",
        "  print(\"Longitud de la lista: \",a)\n",
        "\n",
        "#main\n",
        "lsita=[1,2,3,4,5,24,55,\"angel\"]\n",
        "len2(lista)"
      ],
      "metadata": {
        "colab": {
          "base_uri": "https://localhost:8080/"
        },
        "id": "OIRmpyPhpicu",
        "outputId": "cb0e501d-995a-45ed-f9a7-f3059f39bb06"
      },
      "execution_count": null,
      "outputs": [
        {
          "output_type": "stream",
          "name": "stdout",
          "text": [
            "Longitud de la lista:  9\n"
          ]
        }
      ]
    },
    {
      "cell_type": "code",
      "source": [
        "def arroba(s):\n",
        "  for k in s:\n",
        "    if k == \"@\":\n",
        "      return True\n",
        "      break\n",
        "  return False\n",
        "\n",
        "#main\n",
        "mail=\"arturo2342@gmail.com\"\n",
        "print(\"El correo tiene arroba:\", arroba(mail))"
      ],
      "metadata": {
        "colab": {
          "base_uri": "https://localhost:8080/"
        },
        "id": "mCumCutRsLm2",
        "outputId": "00a90871-492c-45bc-abbe-8c92619f80d8"
      },
      "execution_count": null,
      "outputs": [
        {
          "output_type": "stream",
          "name": "stdout",
          "text": [
            "El correo tiene arroba: True\n"
          ]
        }
      ]
    }
  ]
}