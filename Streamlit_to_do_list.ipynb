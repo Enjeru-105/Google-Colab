{
  "nbformat": 4,
  "nbformat_minor": 0,
  "metadata": {
    "colab": {
      "provenance": [],
      "authorship_tag": "ABX9TyOHYb+vA8VodCGrqfPD4z8Q",
      "include_colab_link": true
    },
    "kernelspec": {
      "name": "python3",
      "display_name": "Python 3"
    },
    "language_info": {
      "name": "python"
    }
  },
  "cells": [
    {
      "cell_type": "markdown",
      "metadata": {
        "id": "view-in-github",
        "colab_type": "text"
      },
      "source": [
        "<a href=\"https://colab.research.google.com/github/Enjeru-105/Google-Colab/blob/main/Streamlit_to_do_list.ipynb\" target=\"_parent\"><img src=\"https://colab.research.google.com/assets/colab-badge.svg\" alt=\"Open In Colab\"/></a>"
      ]
    },
    {
      "cell_type": "code",
      "execution_count": null,
      "metadata": {
        "colab": {
          "base_uri": "https://localhost:8080/"
        },
        "id": "QKtsYir6UwV0",
        "outputId": "448d81b1-045b-411c-f2d7-158ed42794f6"
      },
      "outputs": [
        {
          "output_type": "stream",
          "name": "stdout",
          "text": [
            "\u001b[2K     \u001b[90m━━━━━━━━━━━━━━━━━━━━━━━━━━━━━━━━━━━━━━━━\u001b[0m \u001b[32m44.3/44.3 kB\u001b[0m \u001b[31m2.1 MB/s\u001b[0m eta \u001b[36m0:00:00\u001b[0m\n",
            "\u001b[2K   \u001b[90m━━━━━━━━━━━━━━━━━━━━━━━━━━━━━━━━━━━━━━━━\u001b[0m \u001b[32m9.7/9.7 MB\u001b[0m \u001b[31m47.9 MB/s\u001b[0m eta \u001b[36m0:00:00\u001b[0m\n",
            "\u001b[2K   \u001b[90m━━━━━━━━━━━━━━━━━━━━━━━━━━━━━━━━━━━━━━━━\u001b[0m \u001b[32m6.9/6.9 MB\u001b[0m \u001b[31m45.4 MB/s\u001b[0m eta \u001b[36m0:00:00\u001b[0m\n",
            "\u001b[2K   \u001b[90m━━━━━━━━━━━━━━━━━━━━━━━━━━━━━━━━━━━━━━━━\u001b[0m \u001b[32m79.1/79.1 kB\u001b[0m \u001b[31m5.3 MB/s\u001b[0m eta \u001b[36m0:00:00\u001b[0m\n",
            "\u001b[?25h"
          ]
        }
      ],
      "source": [
        "!pip install -q streamlit"
      ]
    },
    {
      "cell_type": "code",
      "source": [
        "%%writefile app.py\n",
        "import streamlit as st\n",
        "\n",
        "class to_do_list:\n",
        "  def __init__(self):\n",
        "    #self.tasks = []\n",
        "    if 'tasks' not in st.session_state:\n",
        "            st.session_state.tasks = []\n",
        "\n",
        "  def add_task(self, task):\n",
        "    #self.tasks.append(task)\n",
        "    st.session_state.tasks.append(task)\n",
        "\n",
        "  def remove_task(self, index):\n",
        "    #self.tasks.pop(index)\n",
        "    st.session_state.tasks.pop(index-1)\n",
        "\n",
        "  def print_tasks(self):\n",
        "    j=1\n",
        "    for task in st.session_state.tasks:\n",
        "      st.write(\"Tarea #\",j,\" - \",task)\n",
        "      j+=1\n",
        "\n",
        "  def delete_all_tasks(self):\n",
        "    #self.tasks = []\n",
        "    st.session_state.tasks.clear()\n",
        "\n",
        "#----------main----------\n",
        "lista = to_do_list()\n",
        "st.title(\"✅ To Do List\")\n",
        "col1, col2 = st.columns(2)\n",
        "with col1:\n",
        "  tarea = st.text_input(\"Escribe una tarea para agtregar a la lista\")\n",
        "  if st.button(\"Agregar tarea➕\"):\n",
        "    lista.add_task(tarea)\n",
        "with col2:\n",
        "  indice = st.text_input(\"Escribe el número de la tarea a eliminar\")\n",
        "  if st.button(\"Eliminar tarea❌\"):\n",
        "    lista.remove_task(int(indice))\n",
        "st.subheader(\"📌 Tareas pendientes:\")\n",
        "lista.print_tasks()\n",
        "if st.session_state.tasks:\n",
        "  if st.button(\"Eliminar todas las tareas🗑️\"):\n",
        "    lista.delete_all_tasks()\n",
        "    st.rerun() #actualiza la app para que muestre ya eliminado"
      ],
      "metadata": {
        "colab": {
          "base_uri": "https://localhost:8080/"
        },
        "id": "AUwc4q4rU3XK",
        "outputId": "b7cfd8b2-4453-486d-ea52-bb8c6be4eb12"
      },
      "execution_count": null,
      "outputs": [
        {
          "output_type": "stream",
          "name": "stdout",
          "text": [
            "Overwriting app.py\n"
          ]
        }
      ]
    },
    {
      "cell_type": "code",
      "source": [
        "!npm install localtunnel"
      ],
      "metadata": {
        "colab": {
          "base_uri": "https://localhost:8080/"
        },
        "id": "Ix44W7hjU3x8",
        "outputId": "dd9a6e79-14fd-41c1-b45b-50d0fb6baef2"
      },
      "execution_count": null,
      "outputs": [
        {
          "output_type": "stream",
          "name": "stdout",
          "text": [
            "\u001b[1G\u001b[0K⠙\u001b[1G\u001b[0K⠹\u001b[1G\u001b[0K⠸\u001b[1G\u001b[0K⠼\u001b[1G\u001b[0K\n",
            "up to date, audited 23 packages in 652ms\n",
            "\u001b[1G\u001b[0K⠼\u001b[1G\u001b[0K\n",
            "\u001b[1G\u001b[0K⠼\u001b[1G\u001b[0K3 packages are looking for funding\n",
            "\u001b[1G\u001b[0K⠼\u001b[1G\u001b[0K  run `npm fund` for details\n",
            "\u001b[1G\u001b[0K⠼\u001b[1G\u001b[0K\n",
            "2 \u001b[33m\u001b[1mmoderate\u001b[22m\u001b[39m severity vulnerabilities\n",
            "\n",
            "To address all issues (including breaking changes), run:\n",
            "  npm audit fix --force\n",
            "\n",
            "Run `npm audit` for details.\n",
            "\u001b[1G\u001b[0K⠼\u001b[1G\u001b[0K"
          ]
        }
      ]
    },
    {
      "cell_type": "code",
      "source": [
        "!streamlit run app.py &>/content/logs.txt & npx localtunnel --port 8501 & curl ipv4.icanhazip.com"
      ],
      "metadata": {
        "colab": {
          "base_uri": "https://localhost:8080/"
        },
        "id": "HtjOoMABU6Lt",
        "outputId": "86949d5b-312c-4411-ec1d-9f377f583255"
      },
      "execution_count": null,
      "outputs": [
        {
          "output_type": "stream",
          "name": "stdout",
          "text": [
            "34.81.177.206\n",
            "\u001b[1G\u001b[0K⠙\u001b[1G\u001b[0Kyour url is: https://plenty-states-open.loca.lt\n"
          ]
        }
      ]
    }
  ]
}