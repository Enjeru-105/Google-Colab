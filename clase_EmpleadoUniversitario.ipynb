{
  "nbformat": 4,
  "nbformat_minor": 0,
  "metadata": {
    "colab": {
      "provenance": [],
      "authorship_tag": "ABX9TyNqRv6pm/nOdPMwgVHH6N3K",
      "include_colab_link": true
    },
    "kernelspec": {
      "name": "python3",
      "display_name": "Python 3"
    },
    "language_info": {
      "name": "python"
    }
  },
  "cells": [
    {
      "cell_type": "markdown",
      "metadata": {
        "id": "view-in-github",
        "colab_type": "text"
      },
      "source": [
        "<a href=\"https://colab.research.google.com/github/Enjeru-105/Google-Colab/blob/main/clase_EmpleadoUniversitario.ipynb\" target=\"_parent\"><img src=\"https://colab.research.google.com/assets/colab-badge.svg\" alt=\"Open In Colab\"/></a>"
      ]
    },
    {
      "cell_type": "code",
      "execution_count": null,
      "metadata": {
        "colab": {
          "base_uri": "https://localhost:8080/"
        },
        "id": "-Wvvfu_NwtwY",
        "outputId": "037f3eec-a4a7-4632-e230-e1f27ee0f7b2"
      },
      "outputs": [
        {
          "output_type": "stream",
          "name": "stdout",
          "text": [
            "Datos guardados:\n",
            "\n",
            "El nombre del empleado universitario es:  Angel\n",
            "El departamento del empleado universitario es:  Fisica\n",
            "El salario del empleado universitario es:  5000\n",
            "\n",
            "\n",
            "El nombre del nuevo empleado universitario es: Felipe\n",
            "Nombre guardado:  Felipe\n",
            "El departamento del nuevo empleado universitario es: Matemáticas\n",
            "Departamento guardado:  Matemáticas\n",
            "El salario del nuevo empleado universitario es: -123\n",
            "El salario no puede ser negativo\n",
            "Ingrese nuevo salario: 1234\n",
            "Salario guardado:  1234\n",
            "Deseas ver la información del empleado? (s/n)\n",
            "s\n",
            "El nuevo nombre del empleado universitario es:  Felipe\n",
            "El nuevo departamento del empleado universitario es:  Matemáticas\n",
            "El nuevo salario del empleado universitario es:  1234\n",
            "Desea salir? (s/n)\n",
            "s\n",
            "Gracias por usar el programa\n"
          ]
        }
      ],
      "source": [
        "class EmpleadoUniversitario:\n",
        "  def __init__(self, nombre, departamento, salario):\n",
        "    self.nombre = nombre\n",
        "    self.departamento = departamento\n",
        "    self.salario = salario\n",
        "\n",
        "  def get_nombre(self):\n",
        "    return self.nombre\n",
        "\n",
        "  def get_departamento(self):\n",
        "    return self.departamento\n",
        "\n",
        "  def get_salario(self):\n",
        "    return self.salario\n",
        "\n",
        "  def set_nombre(self):\n",
        "    self.nombre = input(\"El nombre del nuevo empleado universitario es: \")\n",
        "    print(\"Nombre guardado: \",self.nombre)\n",
        "\n",
        "  def set_departamento(self):\n",
        "    self.departamento = input(\"El departamento del nuevo empleado universitario es: \")\n",
        "    print(\"Departamento guardado: \",self.departamento)\n",
        "\n",
        "  def set_salario(self):\n",
        "    q = int(input(\"El salario del nuevo empleado universitario es: \"))\n",
        "    while q<0:\n",
        "      print(\"El salario no puede ser negativo\")\n",
        "      q = int(input(\"Ingrese nuevo salario: \"))\n",
        "    self.salario = q\n",
        "    print(\"Salario guardado: \",self.salario)\n",
        "\n",
        "#-----------main----------\n",
        "empleado1 = EmpleadoUniversitario(\"Angel\",\"Fisica\",5000)\n",
        "print(\"Datos guardados:\\n\")\n",
        "print(\"El nombre del empleado universitario es: \",empleado1.get_nombre())\n",
        "print(\"El departamento del empleado universitario es: \",empleado1.get_departamento())\n",
        "print(\"El salario del empleado universitario es: \",empleado1.get_salario())\n",
        "print(\"\\n\")\n",
        "while True:\n",
        "  empleado1.set_nombre()\n",
        "  empleado1.set_departamento()\n",
        "  empleado1.set_salario()\n",
        "  print(\"Deseas ver la información del empleado? (s/n)\")\n",
        "  q = input()\n",
        "  if q == \"s\":\n",
        "    print(\"El nuevo nombre del empleado universitario es: \",empleado1.get_nombre())\n",
        "    print(\"El nuevo departamento del empleado universitario es: \",empleado1.get_departamento())\n",
        "    print(\"El nuevo salario del empleado universitario es: \",empleado1.get_salario())\n",
        "  print(\"Desea salir? (s/n)\")\n",
        "  q = input()\n",
        "  if q == \"s\":\n",
        "    break\n",
        "  else:\n",
        "    print(\"Reiniciando el programa...\\n\\n\\n\")\n",
        "print(\"Gracias por usar el programa\")\n"
      ]
    }
  ]
}