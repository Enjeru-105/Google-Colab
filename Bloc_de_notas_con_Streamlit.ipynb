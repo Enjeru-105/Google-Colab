{
  "nbformat": 4,
  "nbformat_minor": 0,
  "metadata": {
    "colab": {
      "provenance": [],
      "authorship_tag": "ABX9TyMtQK2IapeJsTHDko6sjQkY",
      "include_colab_link": true
    },
    "kernelspec": {
      "name": "python3",
      "display_name": "Python 3"
    },
    "language_info": {
      "name": "python"
    }
  },
  "cells": [
    {
      "cell_type": "markdown",
      "metadata": {
        "id": "view-in-github",
        "colab_type": "text"
      },
      "source": [
        "<a href=\"https://colab.research.google.com/github/Enjeru-105/Google-Colab/blob/main/Bloc_de_notas_con_Streamlit.ipynb\" target=\"_parent\"><img src=\"https://colab.research.google.com/assets/colab-badge.svg\" alt=\"Open In Colab\"/></a>"
      ]
    },
    {
      "cell_type": "code",
      "execution_count": null,
      "metadata": {
        "colab": {
          "base_uri": "https://localhost:8080/"
        },
        "id": "IjViZav7d3QL",
        "outputId": "17ab334a-a5ef-4d2f-b4ee-ca03daa1f9b3"
      },
      "outputs": [
        {
          "output_type": "stream",
          "name": "stdout",
          "text": [
            "\u001b[2K     \u001b[90m━━━━━━━━━━━━━━━━━━━━━━━━━━━━━━━━━━━━━━━━\u001b[0m \u001b[32m44.3/44.3 kB\u001b[0m \u001b[31m104.2 kB/s\u001b[0m eta \u001b[36m0:00:00\u001b[0m\n",
            "\u001b[2K   \u001b[90m━━━━━━━━━━━━━━━━━━━━━━━━━━━━━━━━━━━━━━━━\u001b[0m \u001b[32m9.8/9.8 MB\u001b[0m \u001b[31m40.1 MB/s\u001b[0m eta \u001b[36m0:00:00\u001b[0m\n",
            "\u001b[2K   \u001b[90m━━━━━━━━━━━━━━━━━━━━━━━━━━━━━━━━━━━━━━━━\u001b[0m \u001b[32m6.9/6.9 MB\u001b[0m \u001b[31m46.3 MB/s\u001b[0m eta \u001b[36m0:00:00\u001b[0m\n",
            "\u001b[2K   \u001b[90m━━━━━━━━━━━━━━━━━━━━━━━━━━━━━━━━━━━━━━━━\u001b[0m \u001b[32m79.1/79.1 kB\u001b[0m \u001b[31m4.1 MB/s\u001b[0m eta \u001b[36m0:00:00\u001b[0m\n",
            "\u001b[?25h"
          ]
        }
      ],
      "source": [
        "!pip install -q streamlit"
      ]
    },
    {
      "cell_type": "code",
      "source": [
        "%%writefile app.py\n",
        "import streamlit as st\n",
        "\n",
        "class Nota:\n",
        "  def __init__(self, titulo, contenido):\n",
        "    self.titulo = titulo\n",
        "    self.contenido = contenido\n",
        "    self.tipo = 'base'\n",
        "\n",
        "  def mostrar(self):\n",
        "    return f\"**Titulo:** {self.titulo}\\n\\n**Contenido:** {self.contenido}\\n\\n\"\n",
        "\n",
        "  def modificar_t(self, titulo):\n",
        "    self.titulo = titulo\n",
        "\n",
        "  def modificar_c(self, contenido):\n",
        "    self.contenido = contenido\n",
        "\n",
        "class NotaTexto(Nota):\n",
        "  def __init__(self, titulo, contenido):\n",
        "    super().__init__(titulo, contenido)\n",
        "    self.tipo = 'texto'\n",
        "\n",
        "  def mostrar(self):\n",
        "    return super().mostrar()\n",
        "\n",
        "\n",
        "class NotaLista(Nota):\n",
        "  def __init__(self, titulo, contenido=None):\n",
        "    contenido = contenido if contenido is not None else []\n",
        "    super().__init__(titulo, contenido)\n",
        "    self.tipo = 'lista'\n",
        "\n",
        "  def mostrar(self):\n",
        "    texto = f\"**Titulo:** {self.titulo}\\n\\n**Contenido (Lista):** \\n\\n\"\n",
        "    for i, item in enumerate(self.contenido, 1):\n",
        "      texto += f\"{i}. {item}\\n\"\n",
        "    return texto + \"\\n\"\n",
        "\n",
        "\n",
        "class NotaImagen(Nota):\n",
        "  def __init__(self, titulo, contenido):\n",
        "    super().__init__(titulo, contenido)\n",
        "    self.tipo = 'imagen'\n",
        "    #Contenido es una URL\n",
        "\n",
        "  def mostrar(self):\n",
        "    return f\"**Titulo:** {self.titulo}\\n\\n![Imagen]({self.contenido})\\n\\n\"\n",
        "\n",
        "class BlocDeNotas:\n",
        "  def __init__(self):\n",
        "    self.notas = []\n",
        "\n",
        "  def agregar_nota(self, nota):\n",
        "    self.notas.append(nota)\n",
        "\n",
        "  def existe_nota(self, titulo):\n",
        "    return any(nota.titulo == titulo for nota in self.notas)\n",
        "\n",
        "  def obtener_nota(self, titulo):\n",
        "    for nota in self.notas:\n",
        "      if nota.titulo == titulo:\n",
        "        return nota\n",
        "    return None\n",
        "\n",
        "  def eliminar_todas(self):\n",
        "    self.notas = []\n",
        "\n",
        "  #Esta función la tuve que poner porque investigué y hay\n",
        "  #Como un error en colab que algunas listas las puede serializar\n",
        "  #o algo así como si fueran diccionarios y daba errores al editarlas\n",
        "  def refrescar(self):\n",
        "    for i, nota in enumerate(self.notas):\n",
        "      if isinstance(nota, dict):\n",
        "        tipo = nota.get(\"Tipo\", \"Texto\")\n",
        "        titulo = nota.get(\"Titulo\", \"\")\n",
        "        contenido = nota.get(\"Contenido\", \"\")\n",
        "        if tipo == \"lista\":\n",
        "          self.notas[i] = NotaLista(titulo, contenido)\n",
        "        elif tipo == \"imagen\":\n",
        "          self.notas[i] = NotaImagen(titulo, contenido)\n",
        "        else:\n",
        "          self.notas[i] = NotaTexto(titulo, contenido)\n",
        "\n",
        "\n",
        "\n",
        "#-------------------------main-----------------------------#\n",
        "if 'bloc' not in st.session_state:\n",
        "  st.session_state.bloc = BlocDeNotas()\n",
        "else:\n",
        "  st.session_state.bloc.refrescar()\n",
        "\n",
        "if 'opcion' not in st.session_state:\n",
        "  st.session_state.opcion = 'Mostrar Todas las Notas'\n",
        "\n",
        "st.title('🗒️Bloc de Notas')\n",
        "opciones = [\"📝Agregar Nota\", \"🔎Mostrar todas las Notas\", \"✍️Editar Nota\", \"🗑️Eliminar Todas las Notas\"]\n",
        "st.session_state.opcion = st.sidebar.radio(\"¿Que desea hacer?\", opciones)\n",
        "\n",
        "#agragar nota\n",
        "if st.session_state.opcion == \"📝Agregar Nota\":\n",
        "  st.subheader(\"📝Agregar Nota\")\n",
        "  tipo = st.selectbox(\"Seleccione el tipo de nota:\", [\"Nota de Texto\", \"Nota de Lista\", \"Nota de Imagen\"])\n",
        "\n",
        "  with st.form(\"form_agregar\"):\n",
        "    titulo = st.text_input(\"Titulo de la nota:\")\n",
        "    if tipo == \"Nota de Texto\":\n",
        "      contenido = st.text_area(\"Contenido de la nota:\")\n",
        "    elif tipo == \"Nota de Lista\":\n",
        "      lista_texto = st.text_area(\"Elementos de la lista (Uno por línea):\")\n",
        "      contenido = [item.strip() for item in lista_texto.splitlines() if item.strip()]\n",
        "    else:\n",
        "      contenido = st.text_input(\"URL de la imagen:\")\n",
        "\n",
        "    submit_agregar = st.form_submit_button(\"Guardar Nota\")\n",
        "    if submit_agregar:\n",
        "      if not titulo:\n",
        "        st.error(\"Debe ingresar un título a la nota.\")\n",
        "      elif st.session_state.bloc.existe_nota(titulo):\n",
        "        st.error(\"Ya existe una nota con ese título, ingrese otro\")\n",
        "      else:\n",
        "        if tipo == \"Nota de Texto\":\n",
        "          nota = NotaTexto(titulo, contenido)\n",
        "        elif tipo == \"Nota de Lista\":\n",
        "          nota = NotaLista(titulo, contenido)\n",
        "        else:\n",
        "          nota = NotaImagen(titulo, contenido)\n",
        "        st.session_state.bloc.agregar_nota(nota)\n",
        "        st.success(\"Nota agregada con éxito\")\n",
        "\n",
        "#Mostrar todas las notas\n",
        "elif st.session_state.opcion == \"🔎Mostrar todas las Notas\":\n",
        "  st.subheader(\"🗒️Notas Guardadas\")\n",
        "  if not st.session_state.bloc.notas:\n",
        "    st.info(\"❌No hay notas guardadas aún\")\n",
        "  else:\n",
        "    for nota in st.session_state.bloc.notas:\n",
        "      st.markdown(nota.mostrar())\n",
        "      st.markdown(\"---\")\n",
        "\n",
        "#Editar Notas\n",
        "elif st.session_state.opcion == \"✍️Editar Nota\":\n",
        "  st.subheader(\"✍️Editar Nota\")\n",
        "  if not st.session_state.bloc.notas:\n",
        "    st.info(\"❌No hay notas guardadas aún\")\n",
        "  else:\n",
        "    titulo = st.selectbox(\"Seleccione la nota a editar\", [nota.titulo for nota in st.session_state.bloc.notas])\n",
        "    nota = st.session_state.bloc.obtener_nota(titulo)\n",
        "\n",
        "    with st.form(key = \"form_editar\"):\n",
        "      nuevo_titulo = st.text_input(\"Nuevo título:\", nota.titulo)\n",
        "      if nota.tipo == \"texto\":\n",
        "        nuevo_contenido = st.text_area(\"Nuevo contenido:\", nota.contenido)\n",
        "      elif nota.tipo == \"lista\":\n",
        "        lista_actual = \"\\n\".join(nota.contenido) if isinstance(nota.contenido, list) else \"\"\n",
        "        nuevo_texto_lista = st.text_area(\"Ingrese los nuevos elementos de la lista (Uno por línea):\", value = lista_actual)\n",
        "        nuevo_contenido = [item.strip() for item in nuevo_texto_lista.splitlines() if item.strip()]\n",
        "      elif nota.tipo == \"imagen\":\n",
        "        nuevo_contenido = st.text_input(\"Ingrese la nueva URL de la imagen:\", nota.contenido)\n",
        "      else:\n",
        "        st.error(\"Tipo de nota no soportado\")\n",
        "        st.stop()\n",
        "\n",
        "      submit_editar = st.form_submit_button(\"Guardar Cambios\")\n",
        "\n",
        "      if submit_editar:\n",
        "        if nuevo_titulo != nota.titulo:\n",
        "          if st.session_state.bloc.existe_nota(nuevo_titulo):\n",
        "            st.error(\"Ya existe una nota con ese título, ingrese otro\")\n",
        "          else:\n",
        "            nota.modificar_t(nuevo_titulo)\n",
        "\n",
        "        nota.modificar_c(nuevo_contenido)\n",
        "        st.success(\"Cambios guardados con éxito\")\n",
        "        st.rerun()\n",
        "\n",
        "elif st.session_state.opcion == \"🗑️Eliminar Todas las Notas\":\n",
        "  st.subheader(\"🗑️Eliminar Todas las Notas\")\n",
        "  if not st.session_state.bloc.notas:\n",
        "    st.info(\"❌No hay notas guardadas aún\")\n",
        "  elif st.button(\"⚠️Eliminar Todas las Notas⚠️\"):\n",
        "    st.session_state.bloc.eliminar_todas()\n",
        "    st.success(\"🗑️Todas las notas han sido eliminadas\")\n",
        "    st.rerun()"
      ],
      "metadata": {
        "colab": {
          "base_uri": "https://localhost:8080/"
        },
        "id": "2RM8s0ytg3PD",
        "outputId": "b5838915-5973-4bf2-f355-99938bd7dcc2"
      },
      "execution_count": null,
      "outputs": [
        {
          "output_type": "stream",
          "name": "stdout",
          "text": [
            "Overwriting app.py\n"
          ]
        }
      ]
    },
    {
      "cell_type": "code",
      "source": [
        "!npm install localtunnel"
      ],
      "metadata": {
        "colab": {
          "base_uri": "https://localhost:8080/"
        },
        "id": "DOQ_BxXYg3TO",
        "outputId": "70e59b78-5ab9-4b32-9fc8-820df591d043"
      },
      "execution_count": null,
      "outputs": [
        {
          "output_type": "stream",
          "name": "stdout",
          "text": [
            "\u001b[1G\u001b[0K⠙\u001b[1G\u001b[0K⠹\u001b[1G\u001b[0K⠸\u001b[1G\u001b[0K⠼\u001b[1G\u001b[0K⠴\u001b[1G\u001b[0K⠦\u001b[1G\u001b[0K⠧\u001b[1G\u001b[0K⠇\u001b[1G\u001b[0K⠏\u001b[1G\u001b[0K⠋\u001b[1G\u001b[0K⠙\u001b[1G\u001b[0K⠹\u001b[1G\u001b[0K⠸\u001b[1G\u001b[0K⠼\u001b[1G\u001b[0K⠴\u001b[1G\u001b[0K⠦\u001b[1G\u001b[0K⠧\u001b[1G\u001b[0K⠇\u001b[1G\u001b[0K⠏\u001b[1G\u001b[0K⠋\u001b[1G\u001b[0K⠙\u001b[1G\u001b[0K⠹\u001b[1G\u001b[0K⠸\u001b[1G\u001b[0K⠼\u001b[1G\u001b[0K⠴\u001b[1G\u001b[0K⠦\u001b[1G\u001b[0K⠧\u001b[1G\u001b[0K⠇\u001b[1G\u001b[0K⠏\u001b[1G\u001b[0K⠋\u001b[1G\u001b[0K⠙\u001b[1G\u001b[0K⠹\u001b[1G\u001b[0K⠸\u001b[1G\u001b[0K⠼\u001b[1G\u001b[0K⠴\u001b[1G\u001b[0K⠦\u001b[1G\u001b[0K⠧\u001b[1G\u001b[0K⠇\u001b[1G\u001b[0K⠏\u001b[1G\u001b[0K⠋\u001b[1G\u001b[0K⠙\u001b[1G\u001b[0K⠹\u001b[1G\u001b[0K⠸\u001b[1G\u001b[0K\n",
            "added 22 packages in 7s\n",
            "\u001b[1G\u001b[0K⠸\u001b[1G\u001b[0K\n",
            "\u001b[1G\u001b[0K⠸\u001b[1G\u001b[0K3 packages are looking for funding\n",
            "\u001b[1G\u001b[0K⠸\u001b[1G\u001b[0K  run `npm fund` for details\n",
            "\u001b[1G\u001b[0K⠸\u001b[1G\u001b[0K"
          ]
        }
      ]
    },
    {
      "cell_type": "code",
      "source": [
        "!streamlit run app.py &>/content/logs.txt & npx localtunnel --port 8501 & curl ipv4.icanhazip.com"
      ],
      "metadata": {
        "colab": {
          "base_uri": "https://localhost:8080/"
        },
        "id": "qdoaS9rHg3V7",
        "outputId": "9306570b-6828-469c-9ec1-6847e0a31c36"
      },
      "execution_count": null,
      "outputs": [
        {
          "output_type": "stream",
          "name": "stdout",
          "text": [
            "34.106.3.237\n",
            "\u001b[1G\u001b[0K⠙\u001b[1G\u001b[0K⠹\u001b[1G\u001b[0Kyour url is: https://warm-pianos-wave.loca.lt\n"
          ]
        }
      ]
    }
  ]
}