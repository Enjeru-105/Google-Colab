{
  "nbformat": 4,
  "nbformat_minor": 0,
  "metadata": {
    "colab": {
      "provenance": [],
      "authorship_tag": "ABX9TyNfZeGarCMSPt8psMJDN2ti",
      "include_colab_link": true
    },
    "kernelspec": {
      "name": "python3",
      "display_name": "Python 3"
    },
    "language_info": {
      "name": "python"
    }
  },
  "cells": [
    {
      "cell_type": "markdown",
      "metadata": {
        "id": "view-in-github",
        "colab_type": "text"
      },
      "source": [
        "<a href=\"https://colab.research.google.com/github/Enjeru-105/Google-Colab/blob/main/Relaciones_entre_clases_teor%C3%ADa.ipynb\" target=\"_parent\"><img src=\"https://colab.research.google.com/assets/colab-badge.svg\" alt=\"Open In Colab\"/></a>"
      ]
    },
    {
      "cell_type": "markdown",
      "source": [
        "## **1. Asociación**\n",
        "\n",
        "La asociación representa una relación entre dos clases que interactúan entre sí, pero sin que una dependa completamente de la otra\n",
        "\n",
        "En este ejemplo, Curso está asociado con Profesor, ya que mantiene una referencia a una instancia de Profesor."
      ],
      "metadata": {
        "id": "z3b9Ykx-Us_M"
      }
    },
    {
      "cell_type": "code",
      "execution_count": null,
      "metadata": {
        "colab": {
          "base_uri": "https://localhost:8080/"
        },
        "id": "VOQXnUSVUqrb",
        "outputId": "de1a04a7-43d7-49bf-ce4d-8c1b737600cc"
      },
      "outputs": [
        {
          "output_type": "stream",
          "name": "stdout",
          "text": [
            "Dra. López\n"
          ]
        }
      ],
      "source": [
        "class Profesor:\n",
        "    def __init__(self, nombre):\n",
        "        self.nombre = nombre\n",
        "\n",
        "class Curso:\n",
        "    def __init__(self, nombre, profesor):\n",
        "        self.nombre = nombre\n",
        "        self.profesor = profesor  # Asociación: Curso conoce a Profesor\n",
        "\n",
        "profesor = Profesor(\"Dra. López\")\n",
        "curso = Curso(\"Biología\", profesor)\n",
        "print(curso.profesor.nombre)  # Salida: Dra. López"
      ]
    },
    {
      "cell_type": "markdown",
      "source": [
        "# **2. Agregación**\n",
        "\n",
        "La agregación es un tipo de asociación donde una clase contiene a otra, pero la vida de los objetos contenidos no depende de la clase contenedora\n",
        "\n",
        "Aquí, Universidad agrega instancias de Departamento, pero estos departamentos pueden existir independientemente de la universidad."
      ],
      "metadata": {
        "id": "VOpxMak-VAcu"
      }
    },
    {
      "cell_type": "code",
      "source": [
        "class Departamento:\n",
        "    def __init__(self, nombre):\n",
        "        self.nombre = nombre\n",
        "\n",
        "class Universidad:\n",
        "    def __init__(self):\n",
        "        self.departamentos = []  # Agregación: Universidad contiene Departamentos\n",
        "\n",
        "    def agregar_departamento(self, departamento):\n",
        "        self.departamentos.append(departamento)\n",
        "\n",
        "dep1 = Departamento(\"Ingeniería\")\n",
        "dep2 = Departamento(\"Artes\")\n",
        "uni = Universidad()\n",
        "uni.agregar_departamento(dep1)\n",
        "uni.agregar_departamento(dep2)"
      ],
      "metadata": {
        "id": "ShlvXonhVIEX"
      },
      "execution_count": null,
      "outputs": []
    },
    {
      "cell_type": "markdown",
      "source": [
        "# **3. Composición**\n",
        "\n",
        "La composición es una forma fuerte de asociación donde la clase contenida no puede existir sin la clase contenedora.\n",
        "\n",
        "En este caso, el Motor es creado dentro de Auto, y su existencia depende del objeto Auto."
      ],
      "metadata": {
        "id": "tLe_f_5NVO1s"
      }
    },
    {
      "cell_type": "code",
      "source": [
        "class Motor:\n",
        "    def __init__(self, tipo):\n",
        "        self.tipo = tipo\n",
        "\n",
        "class Auto:\n",
        "    def __init__(self, modelo):\n",
        "        self.modelo = modelo\n",
        "        self.motor = Motor(\"Eléctrico\")  # Composición: Auto crea y posee un Motor\n",
        "\n",
        "auto = Auto(\"Tesla Model S\")\n",
        "print(auto.motor.tipo)  # Salida: Eléctrico"
      ],
      "metadata": {
        "colab": {
          "base_uri": "https://localhost:8080/"
        },
        "id": "DGRozHEiVgbk",
        "outputId": "3c98c6e0-7b65-43fa-b77d-b2ba9abf9662"
      },
      "execution_count": null,
      "outputs": [
        {
          "output_type": "stream",
          "name": "stdout",
          "text": [
            "Eléctrico\n"
          ]
        }
      ]
    },
    {
      "cell_type": "markdown",
      "source": [
        "# **4. Dependencia**\n",
        "\n",
        "La dependencia ocurre cuando una clase utiliza otra clase para realizar una tarea específica, pero no la posee ni la contiene.\n",
        "\n",
        "Aquí, Usuario depende de Impresora para imprimir documentos, pero no la contiene ni la posee."
      ],
      "metadata": {
        "id": "f8I_MhaeVkiI"
      }
    },
    {
      "cell_type": "code",
      "source": [
        "class Impresora:\n",
        "    def imprimir(self, documento):\n",
        "        print(f\"Imprimiendo: {documento}\")\n",
        "\n",
        "class Usuario:\n",
        "    def enviar_a_imprimir(self, impresora, documento):\n",
        "        impresora.imprimir(documento)  # Dependencia: Usuario usa Impresora\n",
        "\n",
        "impresora = Impresora()\n",
        "usuario = Usuario()\n",
        "usuario.enviar_a_imprimir(impresora, \"Informe.pdf\")"
      ],
      "metadata": {
        "colab": {
          "base_uri": "https://localhost:8080/"
        },
        "id": "I9suqeYcVkRZ",
        "outputId": "06195d45-0acf-4519-d786-b3781bba50d8"
      },
      "execution_count": null,
      "outputs": [
        {
          "output_type": "stream",
          "name": "stdout",
          "text": [
            "Imprimiendo: Informe.pdf\n"
          ]
        }
      ]
    },
    {
      "cell_type": "markdown",
      "source": [
        "# **5. Realización**\n",
        "\n",
        "La realización se refiere a la implementación de una interfaz por parte de una clase concreta\n",
        "\n",
        "En este ejemplo, Perro realiza (implementa) la interfaz Animal al definir el método hacer_sonido."
      ],
      "metadata": {
        "id": "PiJBiShzVm1N"
      }
    },
    {
      "cell_type": "code",
      "source": [
        "from abc import ABC, abstractmethod\n",
        "\n",
        "class Animal(ABC):\n",
        "    @abstractmethod\n",
        "    def hacer_sonido(self):\n",
        "        pass\n",
        "\n",
        "class Perro(Animal):\n",
        "    def hacer_sonido(self):\n",
        "        print(\"Guau\")\n",
        "\n",
        "perro = Perro()\n",
        "perro.hacer_sonido()  # Salida: Guau"
      ],
      "metadata": {
        "colab": {
          "base_uri": "https://localhost:8080/"
        },
        "id": "B96XFsuWVnlQ",
        "outputId": "926d6b33-729c-49e3-810a-1a27297dd58f"
      },
      "execution_count": null,
      "outputs": [
        {
          "output_type": "stream",
          "name": "stdout",
          "text": [
            "Guau\n"
          ]
        }
      ]
    },
    {
      "cell_type": "markdown",
      "source": [
        "# **6. Colaboración**\n",
        "\n",
        "La colaboración implica que múltiples objetos trabajan juntos para lograr una funcionalidad.\n",
        "\n",
        "Aquí, Computadora colabora con Teclado para simular la escritura de texto."
      ],
      "metadata": {
        "id": "3VyiCJ7hVn2I"
      }
    },
    {
      "cell_type": "code",
      "source": [
        "class Teclado:\n",
        "    def presionar_tecla(self, tecla):\n",
        "        print(f\"Tecla {tecla} presionada\")\n",
        "\n",
        "class Computadora:\n",
        "    def __init__(self):\n",
        "        self.teclado = Teclado()\n",
        "\n",
        "    def escribir(self, texto):\n",
        "        for letra in texto:\n",
        "            self.teclado.presionar_tecla(letra)  # Colaboración: Computadora y Teclado\n",
        "\n",
        "pc = Computadora()\n",
        "pc.escribir(\"Hola\")"
      ],
      "metadata": {
        "colab": {
          "base_uri": "https://localhost:8080/"
        },
        "id": "KL0CRGWUVn8_",
        "outputId": "e4945de4-d619-410c-afe8-68a1fcd78fee"
      },
      "execution_count": null,
      "outputs": [
        {
          "output_type": "stream",
          "name": "stdout",
          "text": [
            "Tecla H presionada\n",
            "Tecla o presionada\n",
            "Tecla l presionada\n",
            "Tecla a presionada\n"
          ]
        }
      ]
    },
    {
      "cell_type": "markdown",
      "source": [
        "# **7. Delegación**\n",
        "\n",
        "La delegación ocurre cuando un objeto pasa la responsabilidad de una tarea a otro objeto.\n",
        "\n",
        "En este caso, Aplicacion delega la tarea de registrar mensajes a la clase Logger."
      ],
      "metadata": {
        "id": "4u5i-vosVoDz"
      }
    },
    {
      "cell_type": "code",
      "source": [
        "class Logger:\n",
        "    def log(self, mensaje):\n",
        "        print(f\"Log: {mensaje}\")\n",
        "\n",
        "class Aplicacion:\n",
        "    def __init__(self):\n",
        "        self.logger = Logger()\n",
        "\n",
        "    def ejecutar(self):\n",
        "        self.logger.log(\"Aplicación iniciada\")  # Delegación: Aplicacion delega en Logger\n",
        "\n",
        "app = Aplicacion()\n",
        "app.ejecutar()"
      ],
      "metadata": {
        "colab": {
          "base_uri": "https://localhost:8080/"
        },
        "id": "vaxLyWRBVoJl",
        "outputId": "74657e15-bf64-4a47-edc5-fa1174cbb081"
      },
      "execution_count": null,
      "outputs": [
        {
          "output_type": "stream",
          "name": "stdout",
          "text": [
            "Log: Aplicación iniciada\n"
          ]
        }
      ]
    }
  ]
}